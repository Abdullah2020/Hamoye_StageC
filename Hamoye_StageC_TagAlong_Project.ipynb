{
  "nbformat": 4,
  "nbformat_minor": 0,
  "metadata": {
    "colab": {
      "provenance": [],
      "collapsed_sections": [],
      "authorship_tag": "ABX9TyOqRduODdh8bsn59QDhVbQZ",
      "include_colab_link": true
    },
    "kernelspec": {
      "name": "python3",
      "display_name": "Python 3"
    },
    "language_info": {
      "name": "python"
    }
  },
  "cells": [
    {
      "cell_type": "markdown",
      "metadata": {
        "id": "view-in-github",
        "colab_type": "text"
      },
      "source": [
        "<a href=\"https://colab.research.google.com/github/Abdullah2020/Hamoye_StageC/blob/master/Hamoye_StageC_TagAlong_Project.ipynb\" target=\"_parent\"><img src=\"https://colab.research.google.com/assets/colab-badge.svg\" alt=\"Open In Colab\"/></a>"
      ]
    },
    {
      "cell_type": "markdown",
      "source": [
        "# **Electrical Grid Stability**\n",
        "\n",
        "\n"
      ],
      "metadata": {
        "id": "XRObGmFrGdMd"
      }
    },
    {
      "cell_type": "markdown",
      "source": [
        "Hamoye Stage C Tag Along Project"
      ],
      "metadata": {
        "id": "y7aTVwEQG_t0"
      }
    },
    {
      "cell_type": "code",
      "execution_count": 1,
      "metadata": {
        "colab": {
          "base_uri": "https://localhost:8080/"
        },
        "id": "igwJ_k0ZEnFo",
        "outputId": "24bac1bc-f3a3-437d-dae4-f46220724b63"
      },
      "outputs": [
        {
          "output_type": "stream",
          "name": "stdout",
          "text": [
            "Setup Completed!\n"
          ]
        }
      ],
      "source": [
        "#Import all necessary libraries\n",
        "\n",
        "import pandas as pd\n",
        "import numpy as np                            #mathematical operation\n",
        "import matplotlib.pyplot as plt               #data visualisation\n",
        "import seaborn as sns                         #data visualisation\n",
        "\n",
        "from sklearn.preprocessing import StandardScaler\n",
        "from sklearn.preprocessing import MinMaxScaler             #used for normalising dataset into a common scale using Min and Max.\n",
        "from sklearn.model_selection import train_test_split       #used for splitting dataset into training and testing df\n",
        "\n",
        "from sklearn.preprocessing import LabelEncoder\n",
        "from pandas.core.common import random_state\n",
        "\n",
        "import lightgbm as ltb\n",
        "from xgboost import XGBClassifier\n",
        "from sklearn.model_selection import RandomizedSearchCV\n",
        "from sklearn.ensemble import RandomForestClassifier, ExtraTreesClassifier \n",
        "\n",
        "from sklearn.metrics import recall_score, accuracy_score, precision_score, f1_score, confusion_matrix \n",
        "\n",
        "\n",
        "print('Setup Completed!')"
      ]
    },
    {
      "cell_type": "markdown",
      "source": [
        "**Import dataset**"
      ],
      "metadata": {
        "id": "4isiw3XpGSzI"
      }
    },
    {
      "cell_type": "code",
      "source": [
        "url = \"https://raw.githubusercontent.com/Abdullah2020/Hamoye_StageC/master/Data_for_UCI_named.csv\"\n",
        "electric_df = pd.read_csv(url, sep=',')"
      ],
      "metadata": {
        "id": "9w_4K7h6EnsO"
      },
      "execution_count": 2,
      "outputs": []
    },
    {
      "cell_type": "code",
      "source": [
        "electric_df.head().T"
      ],
      "metadata": {
        "colab": {
          "base_uri": "https://localhost:8080/",
          "height": 488
        },
        "id": "CDvUHazkEnu2",
        "outputId": "e54579f2-0f3c-48ea-f5ab-0c7ea5e4e224"
      },
      "execution_count": 3,
      "outputs": [
        {
          "output_type": "execute_result",
          "data": {
            "text/plain": [
              "              0         1         2         3         4\n",
              "tau1    2.95906  9.304097  8.971707  0.716415  3.134112\n",
              "tau2   3.079885  4.902524  8.848428    7.6696  7.608772\n",
              "tau3   8.381025  3.047541  3.046479  4.486641  4.943759\n",
              "tau4   9.780754  1.369357  1.214518  2.340563  9.857573\n",
              "p1     3.763085  5.067812  3.405158  3.963791  3.525811\n",
              "p2    -0.782604 -1.940058 -1.207456 -1.027473 -1.125531\n",
              "p3    -1.257395 -1.872742  -1.27721 -1.938944 -1.845975\n",
              "p4    -1.723086 -1.255012 -0.920492 -0.997374 -0.554305\n",
              "g1     0.650456  0.413441  0.163041  0.446209   0.79711\n",
              "g2     0.859578  0.862414  0.766689  0.976744   0.45545\n",
              "g3     0.887445  0.562139  0.839444  0.929381  0.656947\n",
              "g4     0.958034   0.78176  0.109853  0.362718  0.820923\n",
              "stab   0.055347 -0.005957  0.003471  0.028871   0.04986\n",
              "stabf  unstable    stable  unstable  unstable  unstable"
            ],
            "text/html": [
              "\n",
              "  <div id=\"df-a4b80168-d14a-4c63-a46c-43fb17ad6995\">\n",
              "    <div class=\"colab-df-container\">\n",
              "      <div>\n",
              "<style scoped>\n",
              "    .dataframe tbody tr th:only-of-type {\n",
              "        vertical-align: middle;\n",
              "    }\n",
              "\n",
              "    .dataframe tbody tr th {\n",
              "        vertical-align: top;\n",
              "    }\n",
              "\n",
              "    .dataframe thead th {\n",
              "        text-align: right;\n",
              "    }\n",
              "</style>\n",
              "<table border=\"1\" class=\"dataframe\">\n",
              "  <thead>\n",
              "    <tr style=\"text-align: right;\">\n",
              "      <th></th>\n",
              "      <th>0</th>\n",
              "      <th>1</th>\n",
              "      <th>2</th>\n",
              "      <th>3</th>\n",
              "      <th>4</th>\n",
              "    </tr>\n",
              "  </thead>\n",
              "  <tbody>\n",
              "    <tr>\n",
              "      <th>tau1</th>\n",
              "      <td>2.95906</td>\n",
              "      <td>9.304097</td>\n",
              "      <td>8.971707</td>\n",
              "      <td>0.716415</td>\n",
              "      <td>3.134112</td>\n",
              "    </tr>\n",
              "    <tr>\n",
              "      <th>tau2</th>\n",
              "      <td>3.079885</td>\n",
              "      <td>4.902524</td>\n",
              "      <td>8.848428</td>\n",
              "      <td>7.6696</td>\n",
              "      <td>7.608772</td>\n",
              "    </tr>\n",
              "    <tr>\n",
              "      <th>tau3</th>\n",
              "      <td>8.381025</td>\n",
              "      <td>3.047541</td>\n",
              "      <td>3.046479</td>\n",
              "      <td>4.486641</td>\n",
              "      <td>4.943759</td>\n",
              "    </tr>\n",
              "    <tr>\n",
              "      <th>tau4</th>\n",
              "      <td>9.780754</td>\n",
              "      <td>1.369357</td>\n",
              "      <td>1.214518</td>\n",
              "      <td>2.340563</td>\n",
              "      <td>9.857573</td>\n",
              "    </tr>\n",
              "    <tr>\n",
              "      <th>p1</th>\n",
              "      <td>3.763085</td>\n",
              "      <td>5.067812</td>\n",
              "      <td>3.405158</td>\n",
              "      <td>3.963791</td>\n",
              "      <td>3.525811</td>\n",
              "    </tr>\n",
              "    <tr>\n",
              "      <th>p2</th>\n",
              "      <td>-0.782604</td>\n",
              "      <td>-1.940058</td>\n",
              "      <td>-1.207456</td>\n",
              "      <td>-1.027473</td>\n",
              "      <td>-1.125531</td>\n",
              "    </tr>\n",
              "    <tr>\n",
              "      <th>p3</th>\n",
              "      <td>-1.257395</td>\n",
              "      <td>-1.872742</td>\n",
              "      <td>-1.27721</td>\n",
              "      <td>-1.938944</td>\n",
              "      <td>-1.845975</td>\n",
              "    </tr>\n",
              "    <tr>\n",
              "      <th>p4</th>\n",
              "      <td>-1.723086</td>\n",
              "      <td>-1.255012</td>\n",
              "      <td>-0.920492</td>\n",
              "      <td>-0.997374</td>\n",
              "      <td>-0.554305</td>\n",
              "    </tr>\n",
              "    <tr>\n",
              "      <th>g1</th>\n",
              "      <td>0.650456</td>\n",
              "      <td>0.413441</td>\n",
              "      <td>0.163041</td>\n",
              "      <td>0.446209</td>\n",
              "      <td>0.79711</td>\n",
              "    </tr>\n",
              "    <tr>\n",
              "      <th>g2</th>\n",
              "      <td>0.859578</td>\n",
              "      <td>0.862414</td>\n",
              "      <td>0.766689</td>\n",
              "      <td>0.976744</td>\n",
              "      <td>0.45545</td>\n",
              "    </tr>\n",
              "    <tr>\n",
              "      <th>g3</th>\n",
              "      <td>0.887445</td>\n",
              "      <td>0.562139</td>\n",
              "      <td>0.839444</td>\n",
              "      <td>0.929381</td>\n",
              "      <td>0.656947</td>\n",
              "    </tr>\n",
              "    <tr>\n",
              "      <th>g4</th>\n",
              "      <td>0.958034</td>\n",
              "      <td>0.78176</td>\n",
              "      <td>0.109853</td>\n",
              "      <td>0.362718</td>\n",
              "      <td>0.820923</td>\n",
              "    </tr>\n",
              "    <tr>\n",
              "      <th>stab</th>\n",
              "      <td>0.055347</td>\n",
              "      <td>-0.005957</td>\n",
              "      <td>0.003471</td>\n",
              "      <td>0.028871</td>\n",
              "      <td>0.04986</td>\n",
              "    </tr>\n",
              "    <tr>\n",
              "      <th>stabf</th>\n",
              "      <td>unstable</td>\n",
              "      <td>stable</td>\n",
              "      <td>unstable</td>\n",
              "      <td>unstable</td>\n",
              "      <td>unstable</td>\n",
              "    </tr>\n",
              "  </tbody>\n",
              "</table>\n",
              "</div>\n",
              "      <button class=\"colab-df-convert\" onclick=\"convertToInteractive('df-a4b80168-d14a-4c63-a46c-43fb17ad6995')\"\n",
              "              title=\"Convert this dataframe to an interactive table.\"\n",
              "              style=\"display:none;\">\n",
              "        \n",
              "  <svg xmlns=\"http://www.w3.org/2000/svg\" height=\"24px\"viewBox=\"0 0 24 24\"\n",
              "       width=\"24px\">\n",
              "    <path d=\"M0 0h24v24H0V0z\" fill=\"none\"/>\n",
              "    <path d=\"M18.56 5.44l.94 2.06.94-2.06 2.06-.94-2.06-.94-.94-2.06-.94 2.06-2.06.94zm-11 1L8.5 8.5l.94-2.06 2.06-.94-2.06-.94L8.5 2.5l-.94 2.06-2.06.94zm10 10l.94 2.06.94-2.06 2.06-.94-2.06-.94-.94-2.06-.94 2.06-2.06.94z\"/><path d=\"M17.41 7.96l-1.37-1.37c-.4-.4-.92-.59-1.43-.59-.52 0-1.04.2-1.43.59L10.3 9.45l-7.72 7.72c-.78.78-.78 2.05 0 2.83L4 21.41c.39.39.9.59 1.41.59.51 0 1.02-.2 1.41-.59l7.78-7.78 2.81-2.81c.8-.78.8-2.07 0-2.86zM5.41 20L4 18.59l7.72-7.72 1.47 1.35L5.41 20z\"/>\n",
              "  </svg>\n",
              "      </button>\n",
              "      \n",
              "  <style>\n",
              "    .colab-df-container {\n",
              "      display:flex;\n",
              "      flex-wrap:wrap;\n",
              "      gap: 12px;\n",
              "    }\n",
              "\n",
              "    .colab-df-convert {\n",
              "      background-color: #E8F0FE;\n",
              "      border: none;\n",
              "      border-radius: 50%;\n",
              "      cursor: pointer;\n",
              "      display: none;\n",
              "      fill: #1967D2;\n",
              "      height: 32px;\n",
              "      padding: 0 0 0 0;\n",
              "      width: 32px;\n",
              "    }\n",
              "\n",
              "    .colab-df-convert:hover {\n",
              "      background-color: #E2EBFA;\n",
              "      box-shadow: 0px 1px 2px rgba(60, 64, 67, 0.3), 0px 1px 3px 1px rgba(60, 64, 67, 0.15);\n",
              "      fill: #174EA6;\n",
              "    }\n",
              "\n",
              "    [theme=dark] .colab-df-convert {\n",
              "      background-color: #3B4455;\n",
              "      fill: #D2E3FC;\n",
              "    }\n",
              "\n",
              "    [theme=dark] .colab-df-convert:hover {\n",
              "      background-color: #434B5C;\n",
              "      box-shadow: 0px 1px 3px 1px rgba(0, 0, 0, 0.15);\n",
              "      filter: drop-shadow(0px 1px 2px rgba(0, 0, 0, 0.3));\n",
              "      fill: #FFFFFF;\n",
              "    }\n",
              "  </style>\n",
              "\n",
              "      <script>\n",
              "        const buttonEl =\n",
              "          document.querySelector('#df-a4b80168-d14a-4c63-a46c-43fb17ad6995 button.colab-df-convert');\n",
              "        buttonEl.style.display =\n",
              "          google.colab.kernel.accessAllowed ? 'block' : 'none';\n",
              "\n",
              "        async function convertToInteractive(key) {\n",
              "          const element = document.querySelector('#df-a4b80168-d14a-4c63-a46c-43fb17ad6995');\n",
              "          const dataTable =\n",
              "            await google.colab.kernel.invokeFunction('convertToInteractive',\n",
              "                                                     [key], {});\n",
              "          if (!dataTable) return;\n",
              "\n",
              "          const docLinkHtml = 'Like what you see? Visit the ' +\n",
              "            '<a target=\"_blank\" href=https://colab.research.google.com/notebooks/data_table.ipynb>data table notebook</a>'\n",
              "            + ' to learn more about interactive tables.';\n",
              "          element.innerHTML = '';\n",
              "          dataTable['output_type'] = 'display_data';\n",
              "          await google.colab.output.renderOutput(dataTable, element);\n",
              "          const docLink = document.createElement('div');\n",
              "          docLink.innerHTML = docLinkHtml;\n",
              "          element.appendChild(docLink);\n",
              "        }\n",
              "      </script>\n",
              "    </div>\n",
              "  </div>\n",
              "  "
            ]
          },
          "metadata": {},
          "execution_count": 3
        }
      ]
    },
    {
      "cell_type": "code",
      "source": [
        "print(\"There are {} rows and {} columns in the dataset.\".format(electric_df.shape[0], electric_df.shape[1]))"
      ],
      "metadata": {
        "colab": {
          "base_uri": "https://localhost:8080/"
        },
        "id": "AJGrC0KCEnxe",
        "outputId": "10f35474-8fc7-4a2d-9c6a-6e0fbce2ffcf"
      },
      "execution_count": 4,
      "outputs": [
        {
          "output_type": "stream",
          "name": "stdout",
          "text": [
            "There are 10000 rows and 14 columns in the dataset.\n"
          ]
        }
      ]
    },
    {
      "cell_type": "code",
      "source": [
        "#Let check missing values\n",
        "\n",
        "missing_values = pd.DataFrame({'Count':electric_df.isna().sum(),'Percentage':electric_df.isna().sum()/len(electric_df)*100})\n",
        "missing_values"
      ],
      "metadata": {
        "colab": {
          "base_uri": "https://localhost:8080/",
          "height": 488
        },
        "id": "scS21sbaJoJz",
        "outputId": "3dc3a603-598d-4856-e7dd-6a82794d99f9"
      },
      "execution_count": 5,
      "outputs": [
        {
          "output_type": "execute_result",
          "data": {
            "text/plain": [
              "       Count  Percentage\n",
              "tau1       0         0.0\n",
              "tau2       0         0.0\n",
              "tau3       0         0.0\n",
              "tau4       0         0.0\n",
              "p1         0         0.0\n",
              "p2         0         0.0\n",
              "p3         0         0.0\n",
              "p4         0         0.0\n",
              "g1         0         0.0\n",
              "g2         0         0.0\n",
              "g3         0         0.0\n",
              "g4         0         0.0\n",
              "stab       0         0.0\n",
              "stabf      0         0.0"
            ],
            "text/html": [
              "\n",
              "  <div id=\"df-16248c97-7c82-4ed0-bbe4-e9fe96b9c388\">\n",
              "    <div class=\"colab-df-container\">\n",
              "      <div>\n",
              "<style scoped>\n",
              "    .dataframe tbody tr th:only-of-type {\n",
              "        vertical-align: middle;\n",
              "    }\n",
              "\n",
              "    .dataframe tbody tr th {\n",
              "        vertical-align: top;\n",
              "    }\n",
              "\n",
              "    .dataframe thead th {\n",
              "        text-align: right;\n",
              "    }\n",
              "</style>\n",
              "<table border=\"1\" class=\"dataframe\">\n",
              "  <thead>\n",
              "    <tr style=\"text-align: right;\">\n",
              "      <th></th>\n",
              "      <th>Count</th>\n",
              "      <th>Percentage</th>\n",
              "    </tr>\n",
              "  </thead>\n",
              "  <tbody>\n",
              "    <tr>\n",
              "      <th>tau1</th>\n",
              "      <td>0</td>\n",
              "      <td>0.0</td>\n",
              "    </tr>\n",
              "    <tr>\n",
              "      <th>tau2</th>\n",
              "      <td>0</td>\n",
              "      <td>0.0</td>\n",
              "    </tr>\n",
              "    <tr>\n",
              "      <th>tau3</th>\n",
              "      <td>0</td>\n",
              "      <td>0.0</td>\n",
              "    </tr>\n",
              "    <tr>\n",
              "      <th>tau4</th>\n",
              "      <td>0</td>\n",
              "      <td>0.0</td>\n",
              "    </tr>\n",
              "    <tr>\n",
              "      <th>p1</th>\n",
              "      <td>0</td>\n",
              "      <td>0.0</td>\n",
              "    </tr>\n",
              "    <tr>\n",
              "      <th>p2</th>\n",
              "      <td>0</td>\n",
              "      <td>0.0</td>\n",
              "    </tr>\n",
              "    <tr>\n",
              "      <th>p3</th>\n",
              "      <td>0</td>\n",
              "      <td>0.0</td>\n",
              "    </tr>\n",
              "    <tr>\n",
              "      <th>p4</th>\n",
              "      <td>0</td>\n",
              "      <td>0.0</td>\n",
              "    </tr>\n",
              "    <tr>\n",
              "      <th>g1</th>\n",
              "      <td>0</td>\n",
              "      <td>0.0</td>\n",
              "    </tr>\n",
              "    <tr>\n",
              "      <th>g2</th>\n",
              "      <td>0</td>\n",
              "      <td>0.0</td>\n",
              "    </tr>\n",
              "    <tr>\n",
              "      <th>g3</th>\n",
              "      <td>0</td>\n",
              "      <td>0.0</td>\n",
              "    </tr>\n",
              "    <tr>\n",
              "      <th>g4</th>\n",
              "      <td>0</td>\n",
              "      <td>0.0</td>\n",
              "    </tr>\n",
              "    <tr>\n",
              "      <th>stab</th>\n",
              "      <td>0</td>\n",
              "      <td>0.0</td>\n",
              "    </tr>\n",
              "    <tr>\n",
              "      <th>stabf</th>\n",
              "      <td>0</td>\n",
              "      <td>0.0</td>\n",
              "    </tr>\n",
              "  </tbody>\n",
              "</table>\n",
              "</div>\n",
              "      <button class=\"colab-df-convert\" onclick=\"convertToInteractive('df-16248c97-7c82-4ed0-bbe4-e9fe96b9c388')\"\n",
              "              title=\"Convert this dataframe to an interactive table.\"\n",
              "              style=\"display:none;\">\n",
              "        \n",
              "  <svg xmlns=\"http://www.w3.org/2000/svg\" height=\"24px\"viewBox=\"0 0 24 24\"\n",
              "       width=\"24px\">\n",
              "    <path d=\"M0 0h24v24H0V0z\" fill=\"none\"/>\n",
              "    <path d=\"M18.56 5.44l.94 2.06.94-2.06 2.06-.94-2.06-.94-.94-2.06-.94 2.06-2.06.94zm-11 1L8.5 8.5l.94-2.06 2.06-.94-2.06-.94L8.5 2.5l-.94 2.06-2.06.94zm10 10l.94 2.06.94-2.06 2.06-.94-2.06-.94-.94-2.06-.94 2.06-2.06.94z\"/><path d=\"M17.41 7.96l-1.37-1.37c-.4-.4-.92-.59-1.43-.59-.52 0-1.04.2-1.43.59L10.3 9.45l-7.72 7.72c-.78.78-.78 2.05 0 2.83L4 21.41c.39.39.9.59 1.41.59.51 0 1.02-.2 1.41-.59l7.78-7.78 2.81-2.81c.8-.78.8-2.07 0-2.86zM5.41 20L4 18.59l7.72-7.72 1.47 1.35L5.41 20z\"/>\n",
              "  </svg>\n",
              "      </button>\n",
              "      \n",
              "  <style>\n",
              "    .colab-df-container {\n",
              "      display:flex;\n",
              "      flex-wrap:wrap;\n",
              "      gap: 12px;\n",
              "    }\n",
              "\n",
              "    .colab-df-convert {\n",
              "      background-color: #E8F0FE;\n",
              "      border: none;\n",
              "      border-radius: 50%;\n",
              "      cursor: pointer;\n",
              "      display: none;\n",
              "      fill: #1967D2;\n",
              "      height: 32px;\n",
              "      padding: 0 0 0 0;\n",
              "      width: 32px;\n",
              "    }\n",
              "\n",
              "    .colab-df-convert:hover {\n",
              "      background-color: #E2EBFA;\n",
              "      box-shadow: 0px 1px 2px rgba(60, 64, 67, 0.3), 0px 1px 3px 1px rgba(60, 64, 67, 0.15);\n",
              "      fill: #174EA6;\n",
              "    }\n",
              "\n",
              "    [theme=dark] .colab-df-convert {\n",
              "      background-color: #3B4455;\n",
              "      fill: #D2E3FC;\n",
              "    }\n",
              "\n",
              "    [theme=dark] .colab-df-convert:hover {\n",
              "      background-color: #434B5C;\n",
              "      box-shadow: 0px 1px 3px 1px rgba(0, 0, 0, 0.15);\n",
              "      filter: drop-shadow(0px 1px 2px rgba(0, 0, 0, 0.3));\n",
              "      fill: #FFFFFF;\n",
              "    }\n",
              "  </style>\n",
              "\n",
              "      <script>\n",
              "        const buttonEl =\n",
              "          document.querySelector('#df-16248c97-7c82-4ed0-bbe4-e9fe96b9c388 button.colab-df-convert');\n",
              "        buttonEl.style.display =\n",
              "          google.colab.kernel.accessAllowed ? 'block' : 'none';\n",
              "\n",
              "        async function convertToInteractive(key) {\n",
              "          const element = document.querySelector('#df-16248c97-7c82-4ed0-bbe4-e9fe96b9c388');\n",
              "          const dataTable =\n",
              "            await google.colab.kernel.invokeFunction('convertToInteractive',\n",
              "                                                     [key], {});\n",
              "          if (!dataTable) return;\n",
              "\n",
              "          const docLinkHtml = 'Like what you see? Visit the ' +\n",
              "            '<a target=\"_blank\" href=https://colab.research.google.com/notebooks/data_table.ipynb>data table notebook</a>'\n",
              "            + ' to learn more about interactive tables.';\n",
              "          element.innerHTML = '';\n",
              "          dataTable['output_type'] = 'display_data';\n",
              "          await google.colab.output.renderOutput(dataTable, element);\n",
              "          const docLink = document.createElement('div');\n",
              "          docLink.innerHTML = docLinkHtml;\n",
              "          element.appendChild(docLink);\n",
              "        }\n",
              "      </script>\n",
              "    </div>\n",
              "  </div>\n",
              "  "
            ]
          },
          "metadata": {},
          "execution_count": 5
        }
      ]
    },
    {
      "cell_type": "markdown",
      "source": [
        "As indicated from the \"***Instructions for Tag-Along Project***\" the direct relationship between 'stab' and 'stabf' is that; \n",
        "\n",
        "*  'stabf' = 'stable' if 'stab' <= 0, 'unstable' otherwise!\n",
        "\n",
        "Thus, **'stab' should be dropped** and 'stabf' will remain as the sole dependent variable (binary classification)."
      ],
      "metadata": {
        "id": "mDqhpKm9yMbA"
      }
    },
    {
      "cell_type": "code",
      "source": [
        "#to drop stab, we used .drop() method\n",
        "\n",
        "electric_df.drop(\"stab\", axis=1, inplace=True)"
      ],
      "metadata": {
        "id": "oD0uPTBhJoNC"
      },
      "execution_count": 6,
      "outputs": []
    },
    {
      "cell_type": "code",
      "source": [
        "electric_df.head()"
      ],
      "metadata": {
        "colab": {
          "base_uri": "https://localhost:8080/",
          "height": 206
        },
        "id": "_UpP0kejJoPq",
        "outputId": "b7e50f7c-cb65-4c20-eb3e-e502bb460947"
      },
      "execution_count": 7,
      "outputs": [
        {
          "output_type": "execute_result",
          "data": {
            "text/plain": [
              "       tau1      tau2      tau3      tau4        p1        p2        p3  \\\n",
              "0  2.959060  3.079885  8.381025  9.780754  3.763085 -0.782604 -1.257395   \n",
              "1  9.304097  4.902524  3.047541  1.369357  5.067812 -1.940058 -1.872742   \n",
              "2  8.971707  8.848428  3.046479  1.214518  3.405158 -1.207456 -1.277210   \n",
              "3  0.716415  7.669600  4.486641  2.340563  3.963791 -1.027473 -1.938944   \n",
              "4  3.134112  7.608772  4.943759  9.857573  3.525811 -1.125531 -1.845975   \n",
              "\n",
              "         p4        g1        g2        g3        g4     stabf  \n",
              "0 -1.723086  0.650456  0.859578  0.887445  0.958034  unstable  \n",
              "1 -1.255012  0.413441  0.862414  0.562139  0.781760    stable  \n",
              "2 -0.920492  0.163041  0.766689  0.839444  0.109853  unstable  \n",
              "3 -0.997374  0.446209  0.976744  0.929381  0.362718  unstable  \n",
              "4 -0.554305  0.797110  0.455450  0.656947  0.820923  unstable  "
            ],
            "text/html": [
              "\n",
              "  <div id=\"df-6be7429a-3d2e-422a-9d28-a066bf315c0e\">\n",
              "    <div class=\"colab-df-container\">\n",
              "      <div>\n",
              "<style scoped>\n",
              "    .dataframe tbody tr th:only-of-type {\n",
              "        vertical-align: middle;\n",
              "    }\n",
              "\n",
              "    .dataframe tbody tr th {\n",
              "        vertical-align: top;\n",
              "    }\n",
              "\n",
              "    .dataframe thead th {\n",
              "        text-align: right;\n",
              "    }\n",
              "</style>\n",
              "<table border=\"1\" class=\"dataframe\">\n",
              "  <thead>\n",
              "    <tr style=\"text-align: right;\">\n",
              "      <th></th>\n",
              "      <th>tau1</th>\n",
              "      <th>tau2</th>\n",
              "      <th>tau3</th>\n",
              "      <th>tau4</th>\n",
              "      <th>p1</th>\n",
              "      <th>p2</th>\n",
              "      <th>p3</th>\n",
              "      <th>p4</th>\n",
              "      <th>g1</th>\n",
              "      <th>g2</th>\n",
              "      <th>g3</th>\n",
              "      <th>g4</th>\n",
              "      <th>stabf</th>\n",
              "    </tr>\n",
              "  </thead>\n",
              "  <tbody>\n",
              "    <tr>\n",
              "      <th>0</th>\n",
              "      <td>2.959060</td>\n",
              "      <td>3.079885</td>\n",
              "      <td>8.381025</td>\n",
              "      <td>9.780754</td>\n",
              "      <td>3.763085</td>\n",
              "      <td>-0.782604</td>\n",
              "      <td>-1.257395</td>\n",
              "      <td>-1.723086</td>\n",
              "      <td>0.650456</td>\n",
              "      <td>0.859578</td>\n",
              "      <td>0.887445</td>\n",
              "      <td>0.958034</td>\n",
              "      <td>unstable</td>\n",
              "    </tr>\n",
              "    <tr>\n",
              "      <th>1</th>\n",
              "      <td>9.304097</td>\n",
              "      <td>4.902524</td>\n",
              "      <td>3.047541</td>\n",
              "      <td>1.369357</td>\n",
              "      <td>5.067812</td>\n",
              "      <td>-1.940058</td>\n",
              "      <td>-1.872742</td>\n",
              "      <td>-1.255012</td>\n",
              "      <td>0.413441</td>\n",
              "      <td>0.862414</td>\n",
              "      <td>0.562139</td>\n",
              "      <td>0.781760</td>\n",
              "      <td>stable</td>\n",
              "    </tr>\n",
              "    <tr>\n",
              "      <th>2</th>\n",
              "      <td>8.971707</td>\n",
              "      <td>8.848428</td>\n",
              "      <td>3.046479</td>\n",
              "      <td>1.214518</td>\n",
              "      <td>3.405158</td>\n",
              "      <td>-1.207456</td>\n",
              "      <td>-1.277210</td>\n",
              "      <td>-0.920492</td>\n",
              "      <td>0.163041</td>\n",
              "      <td>0.766689</td>\n",
              "      <td>0.839444</td>\n",
              "      <td>0.109853</td>\n",
              "      <td>unstable</td>\n",
              "    </tr>\n",
              "    <tr>\n",
              "      <th>3</th>\n",
              "      <td>0.716415</td>\n",
              "      <td>7.669600</td>\n",
              "      <td>4.486641</td>\n",
              "      <td>2.340563</td>\n",
              "      <td>3.963791</td>\n",
              "      <td>-1.027473</td>\n",
              "      <td>-1.938944</td>\n",
              "      <td>-0.997374</td>\n",
              "      <td>0.446209</td>\n",
              "      <td>0.976744</td>\n",
              "      <td>0.929381</td>\n",
              "      <td>0.362718</td>\n",
              "      <td>unstable</td>\n",
              "    </tr>\n",
              "    <tr>\n",
              "      <th>4</th>\n",
              "      <td>3.134112</td>\n",
              "      <td>7.608772</td>\n",
              "      <td>4.943759</td>\n",
              "      <td>9.857573</td>\n",
              "      <td>3.525811</td>\n",
              "      <td>-1.125531</td>\n",
              "      <td>-1.845975</td>\n",
              "      <td>-0.554305</td>\n",
              "      <td>0.797110</td>\n",
              "      <td>0.455450</td>\n",
              "      <td>0.656947</td>\n",
              "      <td>0.820923</td>\n",
              "      <td>unstable</td>\n",
              "    </tr>\n",
              "  </tbody>\n",
              "</table>\n",
              "</div>\n",
              "      <button class=\"colab-df-convert\" onclick=\"convertToInteractive('df-6be7429a-3d2e-422a-9d28-a066bf315c0e')\"\n",
              "              title=\"Convert this dataframe to an interactive table.\"\n",
              "              style=\"display:none;\">\n",
              "        \n",
              "  <svg xmlns=\"http://www.w3.org/2000/svg\" height=\"24px\"viewBox=\"0 0 24 24\"\n",
              "       width=\"24px\">\n",
              "    <path d=\"M0 0h24v24H0V0z\" fill=\"none\"/>\n",
              "    <path d=\"M18.56 5.44l.94 2.06.94-2.06 2.06-.94-2.06-.94-.94-2.06-.94 2.06-2.06.94zm-11 1L8.5 8.5l.94-2.06 2.06-.94-2.06-.94L8.5 2.5l-.94 2.06-2.06.94zm10 10l.94 2.06.94-2.06 2.06-.94-2.06-.94-.94-2.06-.94 2.06-2.06.94z\"/><path d=\"M17.41 7.96l-1.37-1.37c-.4-.4-.92-.59-1.43-.59-.52 0-1.04.2-1.43.59L10.3 9.45l-7.72 7.72c-.78.78-.78 2.05 0 2.83L4 21.41c.39.39.9.59 1.41.59.51 0 1.02-.2 1.41-.59l7.78-7.78 2.81-2.81c.8-.78.8-2.07 0-2.86zM5.41 20L4 18.59l7.72-7.72 1.47 1.35L5.41 20z\"/>\n",
              "  </svg>\n",
              "      </button>\n",
              "      \n",
              "  <style>\n",
              "    .colab-df-container {\n",
              "      display:flex;\n",
              "      flex-wrap:wrap;\n",
              "      gap: 12px;\n",
              "    }\n",
              "\n",
              "    .colab-df-convert {\n",
              "      background-color: #E8F0FE;\n",
              "      border: none;\n",
              "      border-radius: 50%;\n",
              "      cursor: pointer;\n",
              "      display: none;\n",
              "      fill: #1967D2;\n",
              "      height: 32px;\n",
              "      padding: 0 0 0 0;\n",
              "      width: 32px;\n",
              "    }\n",
              "\n",
              "    .colab-df-convert:hover {\n",
              "      background-color: #E2EBFA;\n",
              "      box-shadow: 0px 1px 2px rgba(60, 64, 67, 0.3), 0px 1px 3px 1px rgba(60, 64, 67, 0.15);\n",
              "      fill: #174EA6;\n",
              "    }\n",
              "\n",
              "    [theme=dark] .colab-df-convert {\n",
              "      background-color: #3B4455;\n",
              "      fill: #D2E3FC;\n",
              "    }\n",
              "\n",
              "    [theme=dark] .colab-df-convert:hover {\n",
              "      background-color: #434B5C;\n",
              "      box-shadow: 0px 1px 3px 1px rgba(0, 0, 0, 0.15);\n",
              "      filter: drop-shadow(0px 1px 2px rgba(0, 0, 0, 0.3));\n",
              "      fill: #FFFFFF;\n",
              "    }\n",
              "  </style>\n",
              "\n",
              "      <script>\n",
              "        const buttonEl =\n",
              "          document.querySelector('#df-6be7429a-3d2e-422a-9d28-a066bf315c0e button.colab-df-convert');\n",
              "        buttonEl.style.display =\n",
              "          google.colab.kernel.accessAllowed ? 'block' : 'none';\n",
              "\n",
              "        async function convertToInteractive(key) {\n",
              "          const element = document.querySelector('#df-6be7429a-3d2e-422a-9d28-a066bf315c0e');\n",
              "          const dataTable =\n",
              "            await google.colab.kernel.invokeFunction('convertToInteractive',\n",
              "                                                     [key], {});\n",
              "          if (!dataTable) return;\n",
              "\n",
              "          const docLinkHtml = 'Like what you see? Visit the ' +\n",
              "            '<a target=\"_blank\" href=https://colab.research.google.com/notebooks/data_table.ipynb>data table notebook</a>'\n",
              "            + ' to learn more about interactive tables.';\n",
              "          element.innerHTML = '';\n",
              "          dataTable['output_type'] = 'display_data';\n",
              "          await google.colab.output.renderOutput(dataTable, element);\n",
              "          const docLink = document.createElement('div');\n",
              "          docLink.innerHTML = docLinkHtml;\n",
              "          element.appendChild(docLink);\n",
              "        }\n",
              "      </script>\n",
              "    </div>\n",
              "  </div>\n",
              "  "
            ]
          },
          "metadata": {},
          "execution_count": 7
        }
      ]
    },
    {
      "cell_type": "markdown",
      "source": [
        "**Further Instructions:**\n",
        "\n",
        "*   Split the data into **80-20 train-test split** with a **random state of “1”**. \n",
        "*   Use the **standard scaler** to transform the train set (x_train, y_train) and the test set (x_test). \n",
        "*   Use scikit learn to train a random forest and extra trees classifier. \n",
        "*   And use xgboost and lightgbm to train an extreme boosting model and a light gradient boosting model. \n",
        "\n",
        "Use random_state = 1 for training all models and evaluate on the test set. Answer the following questions:"
      ],
      "metadata": {
        "id": "EYCOizXPzng9"
      }
    },
    {
      "cell_type": "code",
      "source": [
        "#Let define our target and features variable\n",
        "\n",
        "X = electric_df.drop(\"stabf\", axis = 1)     # Features\n",
        "y = electric_df[\"stabf\"]                    # Target"
      ],
      "metadata": {
        "id": "6iMsdLjo0ZCt"
      },
      "execution_count": 8,
      "outputs": []
    },
    {
      "cell_type": "code",
      "source": [
        "#Split the data into an 80-20 train-test split with a random state of “1”\n",
        "\n",
        "x_train, x_test, y_train, y_test = train_test_split(X, y, train_size = 0.8, test_size = 0.2, random_state = 1)  # 80% training and 20% test"
      ],
      "metadata": {
        "id": "KwHT9s_bJoSS"
      },
      "execution_count": 9,
      "outputs": []
    },
    {
      "cell_type": "code",
      "source": [
        "#Use the standard scaler to transform the train set (x_train, y_train) and the test set (x_test)\n",
        "\n",
        "#Define standard scaler\n",
        "scaler = StandardScaler()\n",
        "\n",
        "#transform train set (x_train, y_train) \n",
        "transformed_train_df = scaler.fit_transform(x_train)\n",
        "transformed_train_df = pd.DataFrame(transformed_train_df, columns = x_train.columns)\n",
        "\n",
        "#transform test set (x_test)\n",
        "transformed_test_df = scaler.transform(x_test)\n",
        "transformed_test_df = pd.DataFrame(transformed_test_df,  columns = x_test.columns)\n"
      ],
      "metadata": {
        "id": "W92vyGtVJoVM"
      },
      "execution_count": 10,
      "outputs": []
    },
    {
      "cell_type": "code",
      "source": [
        "print(transformed_train_df.shape, transformed_test_df.shape)"
      ],
      "metadata": {
        "colab": {
          "base_uri": "https://localhost:8080/"
        },
        "id": "QSBLHi2AEn0X",
        "outputId": "ef5768f2-f179-4d54-8fe7-fa00e9fbbad6"
      },
      "execution_count": 11,
      "outputs": [
        {
          "output_type": "stream",
          "name": "stdout",
          "text": [
            "(8000, 12) (2000, 12)\n"
          ]
        }
      ]
    },
    {
      "cell_type": "code",
      "source": [],
      "metadata": {
        "id": "pOTyO6_v9aEj"
      },
      "execution_count": 11,
      "outputs": []
    },
    {
      "cell_type": "markdown",
      "source": [
        "# **QUESTION 1:**\n",
        "\n",
        "Using the ExtraTreesClassifier as your estimator with cv=5, n_iter=10, scoring = 'accuracy', n_jobs = -1, verbose = 1 and random_state = 1. What are the best hyperparameters from the randomized search CV?"
      ],
      "metadata": {
        "id": "b2BfPE0lje9X"
      }
    },
    {
      "cell_type": "code",
      "source": [
        "#Define Extra Trees Classifier model\n",
        "extra_tree = ExtraTreesClassifier(random_state = 1)\n",
        "\n",
        "#Parameters to try\n",
        "param = {'n_estimators': [50, 100, 300, 500, 1000], \n",
        "         'min_samples_split': [2, 3, 5, 7, 9], \n",
        "         'min_samples_leaf': [1, 2, 4, 6, 8],\n",
        "         'max_features': ['sqrt', 'log2', 'auto', None]    #It can take four values\n",
        "         }\n",
        "\n",
        "Random_Search = RandomizedSearchCV(estimator = extra_tree, param_distributions= param , random_state = 1, n_iter=10, cv=5, scoring=\"accuracy\",\n",
        "                                   n_jobs = -1, verbose = 1)"
      ],
      "metadata": {
        "id": "OiXXLoLp9aHd"
      },
      "execution_count": 12,
      "outputs": []
    },
    {
      "cell_type": "code",
      "source": [
        "#Fit the model\n",
        "RandomSearchResults = Random_Search.fit(transformed_train_df, y_train)\n"
      ],
      "metadata": {
        "colab": {
          "base_uri": "https://localhost:8080/"
        },
        "id": "O2FNvBevof5D",
        "outputId": "7f9a1eac-7f1c-4f63-e0b2-d5f32e8c0462"
      },
      "execution_count": 13,
      "outputs": [
        {
          "output_type": "stream",
          "name": "stdout",
          "text": [
            "Fitting 5 folds for each of 10 candidates, totalling 50 fits\n"
          ]
        }
      ]
    },
    {
      "cell_type": "code",
      "source": [
        "#fetch the best hyperparameters\n",
        "\n",
        "RandomSearchResults.best_params_"
      ],
      "metadata": {
        "colab": {
          "base_uri": "https://localhost:8080/"
        },
        "id": "Lsax6Ebpu1hm",
        "outputId": "ef8c5754-71ac-4520-9623-543ca4364c79"
      },
      "execution_count": 14,
      "outputs": [
        {
          "output_type": "execute_result",
          "data": {
            "text/plain": [
              "{'n_estimators': 1000,\n",
              " 'min_samples_split': 2,\n",
              " 'min_samples_leaf': 8,\n",
              " 'max_features': None}"
            ]
          },
          "metadata": {},
          "execution_count": 14
        }
      ]
    },
    {
      "cell_type": "markdown",
      "source": [
        "# **Question 4:**\n",
        "\n",
        "What is the accuracy on the test set using the LGBM classifier? In 4 decimal places."
      ],
      "metadata": {
        "id": "08UMuDcz1glX"
      }
    },
    {
      "cell_type": "code",
      "source": [
        "#LightGBM classifier \n",
        "\n",
        "#define model\n",
        "model = ltb.LGBMClassifier(random_state=1)\n",
        "\n",
        "#fit model\n",
        "model.fit(transformed_train_df, y_train)\n",
        "print(); print(model)\n",
        "\n",
        "#prediction\n",
        "predicted_y = model.predict(transformed_test_df)"
      ],
      "metadata": {
        "colab": {
          "base_uri": "https://localhost:8080/"
        },
        "id": "MKjKonyD1fiv",
        "outputId": "a0290bcd-17c0-4657-8a50-2da9a8723682"
      },
      "execution_count": 15,
      "outputs": [
        {
          "output_type": "stream",
          "name": "stdout",
          "text": [
            "\n",
            "LGBMClassifier(random_state=1)\n"
          ]
        }
      ]
    },
    {
      "cell_type": "code",
      "source": [
        "#LGBM classifier test set accuracy\n",
        "\n",
        "accuracy = accuracy_score(y_test, predicted_y)\n",
        "print(\"The LightGBM test set accuracy is:  \", round(accuracy, 4))"
      ],
      "metadata": {
        "colab": {
          "base_uri": "https://localhost:8080/"
        },
        "id": "3hiX5i2_of8C",
        "outputId": "2c0e2616-7ac9-4875-a8c7-ef18db547ef7"
      },
      "execution_count": 16,
      "outputs": [
        {
          "output_type": "stream",
          "name": "stdout",
          "text": [
            "The LightGBM test set accuracy is:   0.9375\n"
          ]
        }
      ]
    },
    {
      "cell_type": "markdown",
      "source": [
        "# **Question 9:**\n",
        "\n",
        "What is the accuracy on the test set using the XGboost classifier? In 4 decimal places."
      ],
      "metadata": {
        "id": "LSVciuOr4VH9"
      }
    },
    {
      "cell_type": "code",
      "source": [
        "#Extreme Gradient Boost classifier (XGboost)\n",
        "\n",
        "#Define model\n",
        "xgb_model = XGBClassifier(random_state = 1)\n",
        "\n",
        "#fit model\n",
        "xgb_model.fit(transformed_train_df, y_train)\n",
        "\n",
        "#prediction\n",
        "xgb_predicted = xgb_model.predict(transformed_test_df)"
      ],
      "metadata": {
        "id": "bD077dEjogBi"
      },
      "execution_count": 17,
      "outputs": []
    },
    {
      "cell_type": "code",
      "source": [
        "#XGBoost accurarcy\n",
        "\n",
        "xgb_accuracy = accuracy_score(y_test, xgb_predicted)\n",
        "\n",
        "print(\"The XGboost test set accuracy is:  \", round(xgb_accuracy, 4))"
      ],
      "metadata": {
        "colab": {
          "base_uri": "https://localhost:8080/"
        },
        "id": "yyRwCCzOogDs",
        "outputId": "6398b1a0-db72-4754-adcf-4319cbd733c5"
      },
      "execution_count": 18,
      "outputs": [
        {
          "output_type": "stream",
          "name": "stdout",
          "text": [
            "The XGboost test set accuracy is:   0.9195\n"
          ]
        }
      ]
    },
    {
      "cell_type": "markdown",
      "source": [
        "# **Question 10:**\n",
        "\n",
        "Find the feature importance using the optimal ExtraTreesClassifier model. Which features are the most and least important respectively?"
      ],
      "metadata": {
        "id": "RaUtbwz46s5S"
      }
    },
    {
      "cell_type": "code",
      "source": [
        "#Define Extra Trees Classifier model\n",
        "extra_tree = ExtraTreesClassifier(random_state = 1)\n",
        "extra_tree.fit(transformed_train_df, y_train)\n",
        "\n",
        "\n",
        "X = pd.DataFrame(X)\n",
        "print(sorted(zip(extra_tree.feature_importances_, X.columns), reverse=True))\n",
        "\n",
        "feature_importance = pd.Series(extra_tree.feature_importances_, index = X.columns)\n",
        "feature_importance.nlargest(40).plot(kind='barh')\n",
        "\n",
        "\n",
        "plt.title('Feature importances obtained from coefficients', size=15)\n",
        "plt.ylabel('Features')\n",
        "plt.xlabel('Values')\n",
        "plt.show()"
      ],
      "metadata": {
        "id": "77Z9G4j0ogGj",
        "colab": {
          "base_uri": "https://localhost:8080/",
          "height": 334
        },
        "outputId": "ebd3b52a-c062-490c-aa51-24f644f884e4"
      },
      "execution_count": 19,
      "outputs": [
        {
          "output_type": "stream",
          "name": "stdout",
          "text": [
            "[(0.11844468079199041, 'tau2'), (0.11739736493320078, 'tau1'), (0.11546569217199552, 'tau4'), (0.11316851246674982, 'tau3'), (0.09688268324346265, 'g3'), (0.09401881529815702, 'g4'), (0.09367635844551439, 'g2'), (0.08978290601483987, 'g1'), (0.040706278296424536, 'p3'), (0.040578638540044426, 'p4'), (0.04037131556379323, 'p2'), (0.039506754233827476, 'p1')]\n"
          ]
        },
        {
          "output_type": "display_data",
          "data": {
            "text/plain": [
              "<Figure size 432x288 with 1 Axes>"
            ],
            "image/png": "[encoded data removed]"
          },
          "metadata": {
            "needs_background": "light"
          }
        }
      ]
    },
    {
      "cell_type": "code",
      "source": [
        "feature_importance"
      ],
      "metadata": {
        "colab": {
          "base_uri": "https://localhost:8080/"
        },
        "id": "lwNsD-YWYxad",
        "outputId": "55541f4e-d6ab-4a49-b4bf-8c0dd326c6ec"
      },
      "execution_count": 20,
      "outputs": [
        {
          "output_type": "execute_result",
          "data": {
            "text/plain": [
              "tau1    0.117397\n",
              "tau2    0.118445\n",
              "tau3    0.113169\n",
              "tau4    0.115466\n",
              "p1      0.039507\n",
              "p2      0.040371\n",
              "p3      0.040706\n",
              "p4      0.040579\n",
              "g1      0.089783\n",
              "g2      0.093676\n",
              "g3      0.096883\n",
              "g4      0.094019\n",
              "dtype: float64"
            ]
          },
          "metadata": {},
          "execution_count": 20
        }
      ]
    },
    {
      "cell_type": "code",
      "source": [
        "# find the maximum of each column\n",
        "maxFeature = feature_importance.max(axis = 0)\n",
        " \n",
        "print(maxFeature)"
      ],
      "metadata": {
        "colab": {
          "base_uri": "https://localhost:8080/"
        },
        "id": "xwjkwPoJY3Bn",
        "outputId": "af48f741-1d3a-41d0-d2c1-4cb61d75a275"
      },
      "execution_count": 21,
      "outputs": [
        {
          "output_type": "stream",
          "name": "stdout",
          "text": [
            "0.11844468079199041\n"
          ]
        }
      ]
    },
    {
      "cell_type": "markdown",
      "source": [
        "Hence, the feature most important correspond with **tau2**"
      ],
      "metadata": {
        "id": "jbVSxk40es-O"
      }
    },
    {
      "cell_type": "code",
      "source": [
        "# find the minimum of each column\n",
        "minFeature = feature_importance.min(axis = 0)\n",
        " \n",
        "print(minFeature)"
      ],
      "metadata": {
        "colab": {
          "base_uri": "https://localhost:8080/"
        },
        "id": "JbJ4Gubfcf-Z",
        "outputId": "43dce4e9-88f1-4885-8ce7-1eda33478e85"
      },
      "execution_count": 22,
      "outputs": [
        {
          "output_type": "stream",
          "name": "stdout",
          "text": [
            "0.039506754233827476\n"
          ]
        }
      ]
    },
    {
      "cell_type": "markdown",
      "source": [
        "Hence, the feature least important correspond with **p1**"
      ],
      "metadata": {
        "id": "AV0p-5DUfFd3"
      }
    },
    {
      "cell_type": "markdown",
      "source": [
        "# **Question 15:**\n",
        "\n",
        "What is the accuracy on the test set using the random forest classifier? In 4 decimal places."
      ],
      "metadata": {
        "id": "iZHLp-FOhZea"
      }
    },
    {
      "cell_type": "code",
      "source": [
        "#Create a Gaussian Classifier\n",
        "clf=RandomForestClassifier(random_state=1)\n",
        "\n",
        "#Train the model using the training sets y_pred=clf.predict(X_test)\n",
        "clf.fit(transformed_train_df, y_train)\n",
        "\n",
        "y_pred=clf.predict(transformed_test_df)"
      ],
      "metadata": {
        "id": "XeyOMTWvfPqp"
      },
      "execution_count": 23,
      "outputs": []
    },
    {
      "cell_type": "code",
      "source": [
        "from sklearn import metrics\n",
        "\n",
        "acc = accuracy_score(y_pred, y_test)\n",
        "\n",
        "print(\"Accuracy:\",round(acc,4))"
      ],
      "metadata": {
        "colab": {
          "base_uri": "https://localhost:8080/"
        },
        "id": "Yj2hpE5ufPyl",
        "outputId": "970d12f0-ef25-48f2-a6cb-4c03d1879c0c"
      },
      "execution_count": 24,
      "outputs": [
        {
          "output_type": "stream",
          "name": "stdout",
          "text": [
            "Accuracy: 0.929\n"
          ]
        }
      ]
    },
    {
      "cell_type": "markdown",
      "source": [
        "# **Question 17:**\n",
        "\n",
        "You are working on a spam classification system using regularized logistic regression. “Spam” is a positive class (y = 1) and “not spam” is the negative class (y = 0). You have trained your classifier and there are n = 1700 examples in the test set. The confusion matrix of predicted class vs. actual class is:\n",
        "\n",
        "![5e4f146d910fa7c1f000.png](data:image/png;base64,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)\n",
        "\n",
        "What is the F1 score of this classifier?\n"
      ],
      "metadata": {
        "id": "9JiVj8xMjGD0"
      }
    },
    {
      "cell_type": "code",
      "source": [
        "#It can be seen from the confusion matrix of predicted class vs. Actual class, the following parameters were obtained\n",
        "\n",
        "TP = 255      #True Positive\n",
        "FN = 1380     #False Negative\n",
        "FP = 45       #False Positve\n",
        "TN = 20       #True Negative\n",
        "\n",
        "#let calculate Recall\n",
        "Recall = TP/(TP+FN)\n",
        "\n",
        "#let calculate Precision\n",
        "Precision = TP/(TP+FP)\n",
        "\n",
        "#let calculate F1 score\n",
        "F1_Score = (2 * ((Recall*Precision)/(Recall+Precision)))\n",
        "\n",
        "\n",
        "print(\"The F1 score of this classifier = {} \".format(round(F1_Score,4)))"
      ],
      "metadata": {
        "colab": {
          "base_uri": "https://localhost:8080/"
        },
        "id": "vw0e8z_YfP00",
        "outputId": "eb0ed947-5b3e-4381-9a1a-14021b01f5b4"
      },
      "execution_count": 25,
      "outputs": [
        {
          "output_type": "stream",
          "name": "stdout",
          "text": [
            "The F1 score of this classifier = 0.2636 \n"
          ]
        }
      ]
    },
    {
      "cell_type": "markdown",
      "source": [
        "# **Question 19:**\n",
        "\n",
        "Train a new ExtraTreesClassifier Model with the new Hyperparameters from the RandomizedSearchCV (with random_state = 1). Is the accuracy of the new optimal model higher or lower than the initial ExtraTreesClassifier model with no hyperparameter tuning?"
      ],
      "metadata": {
        "id": "__5R0d0AozCv"
      }
    },
    {
      "cell_type": "code",
      "source": [
        "#1- The new ExtraTreesClassifier Model with the new Hyperparameters from the RandomizedSearchCV (with random_state = 1)\n",
        "\n",
        "#Define model\n",
        "new_extra_model = ExtraTreesClassifier(random_state=1)\n",
        "\n",
        "#fit model\n",
        "new_extra_model.fit(transformed_train_df, y_train)\n",
        "\n",
        "#Predict model\n",
        "new_extra_predict = new_extra_model.predict(transformed_test_df)"
      ],
      "metadata": {
        "id": "bWlwLKaIjXVj"
      },
      "execution_count": 26,
      "outputs": []
    },
    {
      "cell_type": "code",
      "source": [
        "#Let evaluate the accuracy score matrix\n",
        "\n",
        "acc1 = accuracy_score(new_extra_predict, y_test)\n",
        "print(round(acc1,4))"
      ],
      "metadata": {
        "colab": {
          "base_uri": "https://localhost:8080/"
        },
        "id": "3vsyjphlfP3L",
        "outputId": "a94ec029-2eb5-46c4-c9f4-86c96e0d970b"
      },
      "execution_count": 27,
      "outputs": [
        {
          "output_type": "stream",
          "name": "stdout",
          "text": [
            "0.928\n"
          ]
        }
      ]
    },
    {
      "cell_type": "code",
      "source": [
        "#2 - using the optimal model\n",
        "\n",
        "#Define model\n",
        "optimal_extra_model = ExtraTreesClassifier(n_estimators = 1000, min_samples_split = 2, min_samples_leaf = 8, max_features = None, random_state=1)\n",
        "\n",
        "#fit model\n",
        "optimal_extra_model.fit(transformed_train_df, y_train)\n",
        "\n",
        "#Predict model\n",
        "optimal_extra_predict = optimal_extra_model.predict(transformed_test_df)"
      ],
      "metadata": {
        "id": "zsI5A0VHfP5m"
      },
      "execution_count": 28,
      "outputs": []
    },
    {
      "cell_type": "code",
      "source": [
        "#Let evaluate the accuracy score matrix of the optimal model\n",
        "\n",
        "acc2 = accuracy_score(optimal_extra_predict, y_test)\n",
        "print(round(acc2,4))"
      ],
      "metadata": {
        "colab": {
          "base_uri": "https://localhost:8080/"
        },
        "id": "5fi3c7Qbsdaq",
        "outputId": "42b66d56-d4f5-46b1-f3f5-3b8720357d61"
      },
      "execution_count": 29,
      "outputs": [
        {
          "output_type": "stream",
          "name": "stdout",
          "text": [
            "0.927\n"
          ]
        }
      ]
    },
    {
      "cell_type": "code",
      "source": [
        "#let see which of the accuracy from acc1 and acc2 is the highest and lowest\n",
        "\n",
        "if acc1 < acc2:\n",
        "  print(\"The accuracy of the new optimal model HIGHER than the initial ExtraTreesClassifier model with no hyperparameter tuning\")\n",
        "else:\n",
        "  print(\"The accuracy of the new optimal model LOWER than the initial ExtraTreesClassifier model with no hyperparameter tuning\")\n"
      ],
      "metadata": {
        "colab": {
          "base_uri": "https://localhost:8080/"
        },
        "id": "pFAOSVU8s4FH",
        "outputId": "1ee33e35-d922-4870-96b2-163658b34a08"
      },
      "execution_count": 30,
      "outputs": [
        {
          "output_type": "stream",
          "name": "stdout",
          "text": [
            "The accuracy of the new optimal model LOWER than the initial ExtraTreesClassifier model with no hyperparameter tuning\n"
          ]
        }
      ]
    }
  ]
}